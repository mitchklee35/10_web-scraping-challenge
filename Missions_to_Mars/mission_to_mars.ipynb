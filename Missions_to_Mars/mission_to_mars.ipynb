{
 "metadata": {
  "language_info": {
   "codemirror_mode": {
    "name": "ipython",
    "version": 3
   },
   "file_extension": ".py",
   "mimetype": "text/x-python",
   "name": "python",
   "nbconvert_exporter": "python",
   "pygments_lexer": "ipython3",
   "version": 3
  },
  "orig_nbformat": 2,
  "kernelspec": {
   "name": "python_defaultSpec_1596665050335",
   "display_name": "Python 3.7.4 64-bit ('base': conda)"
  }
 },
 "nbformat": 4,
 "nbformat_minor": 2,
 "cells": [
  {
   "cell_type": "code",
   "execution_count": 69,
   "metadata": {},
   "outputs": [],
   "source": [
    "from splinter import Browser\n",
    "from splinter.exceptions import ElementDoesNotExist\n",
    "from bs4 import BeautifulSoup as bs"
   ]
  },
  {
   "cell_type": "code",
   "execution_count": 70,
   "metadata": {},
   "outputs": [],
   "source": [
    "executable_path = {'executable_path': 'chromedriver.exe'}\n",
    "browser = Browser('chrome', **executable_path, headless=False)\n",
    "\n",
    "# filepath = os.path.join(\"../Resources/nasa_mars_news.html\")\n",
    "# with open(filepath) as file:\n",
    "#     html = file.read()"
   ]
  },
  {
   "cell_type": "code",
   "execution_count": 71,
   "metadata": {},
   "outputs": [],
   "source": [
    "url = 'https://mars.nasa.gov/news/?page=0&per_page=40&order=publish_date+desc%2Ccreated_at+desc&search=&category=19%2C165%2C184%2C204&blank_scope=Latest'\n",
    "browser.visit(url)"
   ]
  },
  {
   "cell_type": "code",
   "execution_count": 77,
   "metadata": {},
   "outputs": [],
   "source": [
    "html = browser.html\n",
    "soup = bs(html, 'html.parser')"
   ]
  },
  {
   "cell_type": "code",
   "execution_count": 79,
   "metadata": {
    "tags": []
   },
   "outputs": [
    {
     "output_type": "stream",
     "name": "stdout",
     "text": "-------------\nNASA's MAVEN Observes Martian Night Sky Pulsing in Ultraviolet Light\nA mission to investigate key questions about potential life on Mars. \n-------------\nNASA's MAVEN Observes Martian Night Sky Pulsing in Ultraviolet Light\nA mission to investigate key questions about potential life on Mars. \n"
    }
   ],
   "source": [
    "\n",
    "# NASA Mars News scraper\n",
    "# ---------------------------------\n",
    "for result in soup:\n",
    "    # Identify and return title of listing\n",
    "    title = soup.find_all(\"div\", class_ = \"content_title\")[1].text\n",
    "    # Identify and return price of listing\n",
    "    paragraph = soup.find_all(\"div\", class_= \"rollover_description_inner\")[0].text\n",
    "    # Print results only if title, price, and link are available\n",
    "    if (title and paragraph):\n",
    "        print('-------------')\n",
    "        print(title)\n",
    "        print(paragraph)\n"
   ]
  },
  {
   "cell_type": "code",
   "execution_count": null,
   "metadata": {},
   "outputs": [],
   "source": []
  }
 ]
}